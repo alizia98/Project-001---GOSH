{
 "cells": [
  {
   "cell_type": "code",
   "execution_count": 1,
   "metadata": {
    "collapsed": true
   },
   "outputs": [],
   "source": [
    "import pandas as pd\n",
    "import numpy as np\n",
    "import matplotlib.pyplot as plt"
   ]
  },
  {
   "cell_type": "code",
   "execution_count": 2,
   "metadata": {
    "collapsed": true
   },
   "outputs": [],
   "source": [
    "df = pd.read_csv(\"PatientCorePopulatedTable.csv\") "
   ]
  },
  {
   "cell_type": "code",
   "execution_count": 3,
   "metadata": {},
   "outputs": [
    {
     "data": {
      "text/html": [
       "<div>\n",
       "<style scoped>\n",
       "    .dataframe tbody tr th:only-of-type {\n",
       "        vertical-align: middle;\n",
       "    }\n",
       "\n",
       "    .dataframe tbody tr th {\n",
       "        vertical-align: top;\n",
       "    }\n",
       "\n",
       "    .dataframe thead th {\n",
       "        text-align: right;\n",
       "    }\n",
       "</style>\n",
       "<table border=\"1\" class=\"dataframe\">\n",
       "  <thead>\n",
       "    <tr style=\"text-align: right;\">\n",
       "      <th></th>\n",
       "      <th>PatientID</th>\n",
       "      <th>PatientGender</th>\n",
       "      <th>PatientDateOfBirth</th>\n",
       "      <th>PatientRace</th>\n",
       "      <th>PatientMaritalStatus</th>\n",
       "      <th>PatientLanguage</th>\n",
       "      <th>PatientPopulationPercentageBelowPoverty</th>\n",
       "    </tr>\n",
       "  </thead>\n",
       "  <tbody>\n",
       "    <tr>\n",
       "      <th>0</th>\n",
       "      <td>3A3C2AFB-FFFA-4E69-B4E6-73C1245D5D12</td>\n",
       "      <td>Male</td>\n",
       "      <td>1975-01-04 14:49:59.587</td>\n",
       "      <td>White</td>\n",
       "      <td>Single</td>\n",
       "      <td>Unknown</td>\n",
       "      <td>15.6</td>\n",
       "    </tr>\n",
       "    <tr>\n",
       "      <th>1</th>\n",
       "      <td>801AFB51-036F-40E3-BDFE-FED4844BE275</td>\n",
       "      <td>Male</td>\n",
       "      <td>1964-09-06 13:15:43.043</td>\n",
       "      <td>White</td>\n",
       "      <td>Unknown</td>\n",
       "      <td>English</td>\n",
       "      <td>13.23</td>\n",
       "    </tr>\n",
       "    <tr>\n",
       "      <th>2</th>\n",
       "      <td>366B0CC6-18AC-45DD-9AD4-BE884FE3A299</td>\n",
       "      <td>Female</td>\n",
       "      <td>1953-01-14 06:00:19.330</td>\n",
       "      <td>White</td>\n",
       "      <td>Married</td>\n",
       "      <td>English</td>\n",
       "      <td>12.11</td>\n",
       "    </tr>\n",
       "    <tr>\n",
       "      <th>3</th>\n",
       "      <td>DBB78149-D86C-435E-82C4-341999FD0719</td>\n",
       "      <td>Female</td>\n",
       "      <td>1986-04-28 12:42:02.007</td>\n",
       "      <td>Unknown</td>\n",
       "      <td>Unknown</td>\n",
       "      <td>Unknown</td>\n",
       "      <td>95.8</td>\n",
       "    </tr>\n",
       "    <tr>\n",
       "      <th>4</th>\n",
       "      <td>2C6269F4-71F8-4C07-A905-C08E9A3524C2</td>\n",
       "      <td>Female</td>\n",
       "      <td>1963-08-26 10:57:55.183</td>\n",
       "      <td>White</td>\n",
       "      <td>Unknown</td>\n",
       "      <td>English</td>\n",
       "      <td>18.08</td>\n",
       "    </tr>\n",
       "  </tbody>\n",
       "</table>\n",
       "</div>"
      ],
      "text/plain": [
       "                              PatientID PatientGender  \\\n",
       "0  3A3C2AFB-FFFA-4E69-B4E6-73C1245D5D12          Male   \n",
       "1  801AFB51-036F-40E3-BDFE-FED4844BE275          Male   \n",
       "2  366B0CC6-18AC-45DD-9AD4-BE884FE3A299        Female   \n",
       "3  DBB78149-D86C-435E-82C4-341999FD0719        Female   \n",
       "4  2C6269F4-71F8-4C07-A905-C08E9A3524C2        Female   \n",
       "\n",
       "        PatientDateOfBirth PatientRace PatientMaritalStatus PatientLanguage  \\\n",
       "0  1975-01-04 14:49:59.587       White               Single         Unknown   \n",
       "1  1964-09-06 13:15:43.043       White              Unknown         English   \n",
       "2  1953-01-14 06:00:19.330       White              Married         English   \n",
       "3  1986-04-28 12:42:02.007     Unknown              Unknown         Unknown   \n",
       "4  1963-08-26 10:57:55.183       White              Unknown         English   \n",
       "\n",
       "  PatientPopulationPercentageBelowPoverty  \n",
       "0                                    15.6  \n",
       "1                                   13.23  \n",
       "2                                   12.11  \n",
       "3                                    95.8  \n",
       "4                                   18.08  "
      ]
     },
     "execution_count": 3,
     "metadata": {},
     "output_type": "execute_result"
    }
   ],
   "source": [
    "df.head()"
   ]
  },
  {
   "cell_type": "code",
   "execution_count": 4,
   "metadata": {},
   "outputs": [
    {
     "name": "stdout",
     "output_type": "stream",
     "text": [
      "<class 'pandas.core.frame.DataFrame'>\n",
      "RangeIndex: 10000 entries, 0 to 9999\n",
      "Data columns (total 7 columns):\n",
      "PatientID                                  10000 non-null object\n",
      "PatientGender                              10000 non-null object\n",
      "PatientDateOfBirth                         10000 non-null object\n",
      "PatientRace                                10000 non-null object\n",
      "PatientMaritalStatus                       10000 non-null object\n",
      "PatientLanguage                            10000 non-null object\n",
      "PatientPopulationPercentageBelowPoverty    10000 non-null object\n",
      "dtypes: object(7)\n",
      "memory usage: 547.0+ KB\n"
     ]
    }
   ],
   "source": [
    "df.info()"
   ]
  },
  {
   "cell_type": "code",
   "execution_count": 5,
   "metadata": {},
   "outputs": [
    {
     "data": {
      "text/html": [
       "<div>\n",
       "<style scoped>\n",
       "    .dataframe tbody tr th:only-of-type {\n",
       "        vertical-align: middle;\n",
       "    }\n",
       "\n",
       "    .dataframe tbody tr th {\n",
       "        vertical-align: top;\n",
       "    }\n",
       "\n",
       "    .dataframe thead th {\n",
       "        text-align: right;\n",
       "    }\n",
       "</style>\n",
       "<table border=\"1\" class=\"dataframe\">\n",
       "  <thead>\n",
       "    <tr style=\"text-align: right;\">\n",
       "      <th></th>\n",
       "      <th>PatientID</th>\n",
       "      <th>PatientGender</th>\n",
       "      <th>PatientDateOfBirth</th>\n",
       "      <th>PatientRace</th>\n",
       "      <th>PatientMaritalStatus</th>\n",
       "      <th>PatientLanguage</th>\n",
       "      <th>PatientPopulationPercentageBelowPoverty</th>\n",
       "    </tr>\n",
       "  </thead>\n",
       "  <tbody>\n",
       "    <tr>\n",
       "      <th>count</th>\n",
       "      <td>10000</td>\n",
       "      <td>10000</td>\n",
       "      <td>10000</td>\n",
       "      <td>10000</td>\n",
       "      <td>10000</td>\n",
       "      <td>10000</td>\n",
       "      <td>10000</td>\n",
       "    </tr>\n",
       "    <tr>\n",
       "      <th>unique</th>\n",
       "      <td>10000</td>\n",
       "      <td>3</td>\n",
       "      <td>10000</td>\n",
       "      <td>5</td>\n",
       "      <td>6</td>\n",
       "      <td>5</td>\n",
       "      <td>2410</td>\n",
       "    </tr>\n",
       "    <tr>\n",
       "      <th>top</th>\n",
       "      <td>74CBA06C-1029-4B38-920E-638B3ACF0009</td>\n",
       "      <td>Female</td>\n",
       "      <td>1931-01-03 12:34:59.577</td>\n",
       "      <td>White</td>\n",
       "      <td>Married</td>\n",
       "      <td>English</td>\n",
       "      <td>19.33</td>\n",
       "    </tr>\n",
       "    <tr>\n",
       "      <th>freq</th>\n",
       "      <td>1</td>\n",
       "      <td>5199</td>\n",
       "      <td>1</td>\n",
       "      <td>4900</td>\n",
       "      <td>4500</td>\n",
       "      <td>6399</td>\n",
       "      <td>18</td>\n",
       "    </tr>\n",
       "  </tbody>\n",
       "</table>\n",
       "</div>"
      ],
      "text/plain": [
       "                                   PatientID PatientGender  \\\n",
       "count                                  10000         10000   \n",
       "unique                                 10000             3   \n",
       "top     74CBA06C-1029-4B38-920E-638B3ACF0009        Female   \n",
       "freq                                       1          5199   \n",
       "\n",
       "             PatientDateOfBirth PatientRace PatientMaritalStatus  \\\n",
       "count                     10000       10000                10000   \n",
       "unique                    10000           5                    6   \n",
       "top     1931-01-03 12:34:59.577       White              Married   \n",
       "freq                          1        4900                 4500   \n",
       "\n",
       "       PatientLanguage PatientPopulationPercentageBelowPoverty  \n",
       "count            10000                                   10000  \n",
       "unique               5                                    2410  \n",
       "top            English                                   19.33  \n",
       "freq              6399                                      18  "
      ]
     },
     "execution_count": 5,
     "metadata": {},
     "output_type": "execute_result"
    }
   ],
   "source": [
    "df.describe()"
   ]
  },
  {
   "cell_type": "code",
   "execution_count": 6,
   "metadata": {},
   "outputs": [
    {
     "data": {
      "text/plain": [
       "Female    5199\n",
       "Male      4800\n",
       "female       1\n",
       "Name: PatientGender, dtype: int64"
      ]
     },
     "execution_count": 6,
     "metadata": {},
     "output_type": "execute_result"
    }
   ],
   "source": [
    "df['PatientGender'].value_counts()"
   ]
  },
  {
   "cell_type": "code",
   "execution_count": 7,
   "metadata": {},
   "outputs": [
    {
     "data": {
      "text/plain": [
       "0                  White\n",
       "1                  White\n",
       "2                  White\n",
       "3                Unknown\n",
       "4                  White\n",
       "5                  White\n",
       "6       African American\n",
       "7                  White\n",
       "8       African American\n",
       "9                  White\n",
       "10                 White\n",
       "11                 White\n",
       "12                 Asian\n",
       "13                 White\n",
       "14      African American\n",
       "15               Unknown\n",
       "16               Unknown\n",
       "17      African American\n",
       "18                 White\n",
       "19               Unknown\n",
       "20                 White\n",
       "21      African American\n",
       "22               Unknown\n",
       "23                 White\n",
       "24                 White\n",
       "25                 White\n",
       "26                 Asian\n",
       "27                 White\n",
       "28      African American\n",
       "29                 White\n",
       "              ...       \n",
       "9970    African American\n",
       "9971    African American\n",
       "9972               Asian\n",
       "9973             Unknown\n",
       "9974               White\n",
       "9975               White\n",
       "9976             Unknown\n",
       "9977    African American\n",
       "9978               White\n",
       "9979               Asian\n",
       "9980               White\n",
       "9981               White\n",
       "9982               White\n",
       "9983               Asian\n",
       "9984               White\n",
       "9985               White\n",
       "9986               Asian\n",
       "9987               White\n",
       "9988               Asian\n",
       "9989               White\n",
       "9990             Unknown\n",
       "9991               Aslan\n",
       "9992    African American\n",
       "9993             Unknown\n",
       "9994               White\n",
       "9995               Asian\n",
       "9996               Asian\n",
       "9997               White\n",
       "9998               White\n",
       "9999               White\n",
       "Name: PatientRace, Length: 10000, dtype: object"
      ]
     },
     "execution_count": 7,
     "metadata": {},
     "output_type": "execute_result"
    }
   ],
   "source": [
    "df.PatientRace.replace('female','Female')"
   ]
  },
  {
   "cell_type": "code",
   "execution_count": 8,
   "metadata": {},
   "outputs": [
    {
     "data": {
      "text/plain": [
       "White               4900\n",
       "Asian               2299\n",
       "African American    1500\n",
       "Unknown             1300\n",
       "Aslan                  1\n",
       "Name: PatientRace, dtype: int64"
      ]
     },
     "execution_count": 8,
     "metadata": {},
     "output_type": "execute_result"
    }
   ],
   "source": [
    "df['PatientRace'].value_counts()"
   ]
  },
  {
   "cell_type": "code",
   "execution_count": 9,
   "metadata": {},
   "outputs": [
    {
     "data": {
      "text/plain": [
       "0                  White\n",
       "1                  White\n",
       "2                  White\n",
       "3                Unknown\n",
       "4                  White\n",
       "5                  White\n",
       "6       African American\n",
       "7                  White\n",
       "8       African American\n",
       "9                  White\n",
       "10                 White\n",
       "11                 White\n",
       "12                 Asian\n",
       "13                 White\n",
       "14      African American\n",
       "15               Unknown\n",
       "16               Unknown\n",
       "17      African American\n",
       "18                 White\n",
       "19               Unknown\n",
       "20                 White\n",
       "21      African American\n",
       "22               Unknown\n",
       "23                 White\n",
       "24                 White\n",
       "25                 White\n",
       "26                 Asian\n",
       "27                 White\n",
       "28      African American\n",
       "29                 White\n",
       "              ...       \n",
       "9970    African American\n",
       "9971    African American\n",
       "9972               Asian\n",
       "9973             Unknown\n",
       "9974               White\n",
       "9975               White\n",
       "9976             Unknown\n",
       "9977    African American\n",
       "9978               White\n",
       "9979               Asian\n",
       "9980               White\n",
       "9981               White\n",
       "9982               White\n",
       "9983               Asian\n",
       "9984               White\n",
       "9985               White\n",
       "9986               Asian\n",
       "9987               White\n",
       "9988               Asian\n",
       "9989               White\n",
       "9990             Unknown\n",
       "9991               Asian\n",
       "9992    African American\n",
       "9993             Unknown\n",
       "9994               White\n",
       "9995               Asian\n",
       "9996               Asian\n",
       "9997               White\n",
       "9998               White\n",
       "9999               White\n",
       "Name: PatientRace, Length: 10000, dtype: object"
      ]
     },
     "execution_count": 9,
     "metadata": {},
     "output_type": "execute_result"
    }
   ],
   "source": [
    "df.PatientRace.replace('Aslan','Asian')"
   ]
  },
  {
   "cell_type": "code",
   "execution_count": 10,
   "metadata": {},
   "outputs": [
    {
     "data": {
      "text/plain": [
       "Married      4500\n",
       "Single       3200\n",
       "Divorced     1100\n",
       "Unknown       600\n",
       "Separated     500\n",
       "Widowed       100\n",
       "Name: PatientMaritalStatus, dtype: int64"
      ]
     },
     "execution_count": 10,
     "metadata": {},
     "output_type": "execute_result"
    }
   ],
   "source": [
    "df['PatientMaritalStatus'].value_counts()"
   ]
  },
  {
   "cell_type": "code",
   "execution_count": 11,
   "metadata": {},
   "outputs": [
    {
     "data": {
      "text/plain": [
       "English      6399\n",
       "Spanish      1800\n",
       "Icelandic    1200\n",
       "Unknown       600\n",
       "Engrish         1\n",
       "Name: PatientLanguage, dtype: int64"
      ]
     },
     "execution_count": 11,
     "metadata": {},
     "output_type": "execute_result"
    }
   ],
   "source": [
    "df['PatientLanguage'].value_counts()"
   ]
  },
  {
   "cell_type": "code",
   "execution_count": 1,
   "metadata": {},
   "outputs": [
    {
     "ename": "NameError",
     "evalue": "name 'pc_df' is not defined",
     "output_type": "error",
     "traceback": [
      "\u001b[0;31m---------------------------------------------------------------------------\u001b[0m",
      "\u001b[0;31mNameError\u001b[0m                                 Traceback (most recent call last)",
      "\u001b[0;32m<ipython-input-1-c808424204c4>\u001b[0m in \u001b[0;36m<module>\u001b[0;34m\u001b[0m\n\u001b[0;32m----> 1\u001b[0;31m \u001b[0mpc_df\u001b[0m\u001b[0;34m.\u001b[0m\u001b[0mdtypes\u001b[0m\u001b[0;34m\u001b[0m\u001b[0;34m\u001b[0m\u001b[0m\n\u001b[0m",
      "\u001b[0;31mNameError\u001b[0m: name 'pc_df' is not defined"
     ]
    }
   ],
   "source": []
  }
 ],
 "metadata": {
  "kernelspec": {
   "display_name": "Python 3",
   "language": "python",
   "name": "python3"
  },
  "language_info": {
   "codemirror_mode": {
    "name": "ipython",
    "version": 3
   },
   "file_extension": ".py",
   "mimetype": "text/x-python",
   "name": "python",
   "nbconvert_exporter": "python",
   "pygments_lexer": "ipython3",
   "version": "3.6.8"
  }
 },
 "nbformat": 4,
 "nbformat_minor": 2
}
