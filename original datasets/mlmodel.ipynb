{
 "cells": [
  {
   "cell_type": "code",
   "execution_count": 1,
   "metadata": {},
   "outputs": [
    {
     "name": "stdout",
     "output_type": "stream",
     "text": [
      "TensorFlow version: 1.12.0\n"
     ]
    }
   ],
   "source": [
    "import tensorflow as tf\n",
    "print (\"TensorFlow version: \" + tf.__version__)"
   ]
  },
  {
   "cell_type": "code",
   "execution_count": 2,
   "metadata": {},
   "outputs": [],
   "source": [
    "import numpy as np\n",
    "import pandas as pd\n",
    "import matplotlib.pyplot as plt\n",
    "import seaborn as sns"
   ]
  },
  {
   "cell_type": "code",
   "execution_count": 3,
   "metadata": {},
   "outputs": [],
   "source": [
    "from sklearn import preprocessing\n",
    "from sklearn.model_selection import cross_validate\n",
    "from sklearn import linear_model\n",
    "from sklearn.metrics import accuracy_score\n",
    "from sklearn.preprocessing import OneHotEncoder\n",
    "from sklearn.ensemble import RandomForestRegressor, GradientBoostingRegressor\n",
    "from datetime import datetime\n"
   ]
  },
  {
   "cell_type": "code",
   "execution_count": 4,
   "metadata": {},
   "outputs": [],
   "source": [
    "pc_df = pd.read_csv(\"PatientCorePopulatedTable.csv\",na_values = ['Unknown'], infer_datetime_format = True, parse_dates = ['PatientDateOfBirth'])"
   ]
  },
  {
   "cell_type": "code",
   "execution_count": 5,
   "metadata": {},
   "outputs": [],
   "source": [
    "# # pc_df = pc_df.drop(['PatientDateOfBirth'], axis = 1)\n",
    "# pc_df = pc_df.drop(['PatientID'], axis = 1)\n",
    "# pc_df[\"PatientAge\"] = (pd.Timestamp(datetime.now()) - pc_df[\"PatientDateOfBirth\"]).astype('<m8[Y]')"
   ]
  },
  {
   "cell_type": "code",
   "execution_count": 6,
   "metadata": {},
   "outputs": [
    {
     "name": "stdout",
     "output_type": "stream",
     "text": [
      "['PatientID', 'PatientGender', 'PatientDateOfBirth', 'PatientRace', 'PatientMaritalStatus', 'PatientLanguage', 'PatientPopulationPercentageBelowPoverty']\n"
     ]
    },
    {
     "data": {
      "text/plain": [
       "(10000, 7)"
      ]
     },
     "execution_count": 6,
     "metadata": {},
     "output_type": "execute_result"
    }
   ],
   "source": [
    "print (list(pc_df))\n",
    "pc_df.shape"
   ]
  },
  {
   "cell_type": "code",
   "execution_count": 7,
   "metadata": {},
   "outputs": [
    {
     "data": {
      "text/plain": [
       "count     10000\n",
       "unique     2410\n",
       "top       19.33\n",
       "freq         18\n",
       "Name: PatientPopulationPercentageBelowPoverty, dtype: object"
      ]
     },
     "execution_count": 7,
     "metadata": {},
     "output_type": "execute_result"
    }
   ],
   "source": [
    "pc_df.loc[pc_df['PatientGender'] == 'female', 'PatientGender'] = 'Female'\n",
    "pc_df.loc[pc_df['PatientRace'] == 'Aslan', 'PatientRace'] = 'Asian'\n",
    "pc_df.loc[pc_df['PatientLanguage'] == 'Engrish', 'PatientLanguage'] = 'English'\n",
    "pc_df.loc[pc_df['PatientPopulationPercentageBelowPoverty'] == 'text', 'PatientPopulationPercentageBelowPoverty'] = ''\n",
    "# pc_df.loc[pc_df['PatientAge'] == '-17.000000', 'PatientAge'] = '17.000000'\n",
    "s = pc_df.PatientPopulationPercentageBelowPoverty\n",
    "pd.to_numeric(s, errors='coerce')\n",
    "s.describe()\n",
    "# pc_df['PatientPopulationPercentageBelowPoverty'] = pc_df['PatientPopulationPercentageBelowPoverty'].astype('category')"
   ]
  },
  {
   "cell_type": "code",
   "execution_count": 8,
   "metadata": {},
   "outputs": [],
   "source": [
    "# pc_df = pc_df.drop(['PatientDateOfBirth'], axis = 1)\n",
    "# pc_df = pc_df.drop(['PatientID'], axis = 1)\n",
    "pc_df[\"PatientAge\"] = (pd.Timestamp(datetime.now()) - pc_df[\"PatientDateOfBirth\"]).astype('<m8[Y]')"
   ]
  },
  {
   "cell_type": "code",
   "execution_count": 9,
   "metadata": {},
   "outputs": [
    {
     "data": {
      "text/html": [
       "<div>\n",
       "<style scoped>\n",
       "    .dataframe tbody tr th:only-of-type {\n",
       "        vertical-align: middle;\n",
       "    }\n",
       "\n",
       "    .dataframe tbody tr th {\n",
       "        vertical-align: top;\n",
       "    }\n",
       "\n",
       "    .dataframe thead th {\n",
       "        text-align: right;\n",
       "    }\n",
       "</style>\n",
       "<table border=\"1\" class=\"dataframe\">\n",
       "  <thead>\n",
       "    <tr style=\"text-align: right;\">\n",
       "      <th></th>\n",
       "      <th>PatientID</th>\n",
       "      <th>PatientGender</th>\n",
       "      <th>PatientDateOfBirth</th>\n",
       "      <th>PatientRace</th>\n",
       "      <th>PatientMaritalStatus</th>\n",
       "      <th>PatientLanguage</th>\n",
       "      <th>PatientPopulationPercentageBelowPoverty</th>\n",
       "      <th>PatientAge</th>\n",
       "    </tr>\n",
       "  </thead>\n",
       "  <tbody>\n",
       "    <tr>\n",
       "      <th>9214</th>\n",
       "      <td>5B8774C3-EC72-4430-85A7-2D2D14BC25FF</td>\n",
       "      <td>Male</td>\n",
       "      <td>1963-04-28 07:29:29.887</td>\n",
       "      <td>NaN</td>\n",
       "      <td>Single</td>\n",
       "      <td>Spanish</td>\n",
       "      <td>11.08</td>\n",
       "      <td>55.0</td>\n",
       "    </tr>\n",
       "    <tr>\n",
       "      <th>8895</th>\n",
       "      <td>9E1CFE90-3A76-4C71-A0A3-97DE7EEF1DC6</td>\n",
       "      <td>Female</td>\n",
       "      <td>1969-07-24 13:26:48.377</td>\n",
       "      <td>NaN</td>\n",
       "      <td>Married</td>\n",
       "      <td>Spanish</td>\n",
       "      <td>15.46</td>\n",
       "      <td>49.0</td>\n",
       "    </tr>\n",
       "    <tr>\n",
       "      <th>2095</th>\n",
       "      <td>3962BCE9-F512-492C-8DFF-B5653E74C13E</td>\n",
       "      <td>Male</td>\n",
       "      <td>1964-02-26 01:05:51.280</td>\n",
       "      <td>White</td>\n",
       "      <td>Married</td>\n",
       "      <td>Spanish</td>\n",
       "      <td>13.32</td>\n",
       "      <td>54.0</td>\n",
       "    </tr>\n",
       "    <tr>\n",
       "      <th>8579</th>\n",
       "      <td>488E6DC9-5300-4974-9265-6F65F70D88B2</td>\n",
       "      <td>Female</td>\n",
       "      <td>1955-05-20 07:31:28.027</td>\n",
       "      <td>African American</td>\n",
       "      <td>NaN</td>\n",
       "      <td>English</td>\n",
       "      <td>15.02</td>\n",
       "      <td>63.0</td>\n",
       "    </tr>\n",
       "    <tr>\n",
       "      <th>2712</th>\n",
       "      <td>3755E978-DE3E-484A-AA52-0F229512AD02</td>\n",
       "      <td>Male</td>\n",
       "      <td>1955-07-24 15:17:25.113</td>\n",
       "      <td>White</td>\n",
       "      <td>Single</td>\n",
       "      <td>Icelandic</td>\n",
       "      <td>15.14</td>\n",
       "      <td>63.0</td>\n",
       "    </tr>\n",
       "  </tbody>\n",
       "</table>\n",
       "</div>"
      ],
      "text/plain": [
       "                                 PatientID PatientGender  \\\n",
       "9214  5B8774C3-EC72-4430-85A7-2D2D14BC25FF          Male   \n",
       "8895  9E1CFE90-3A76-4C71-A0A3-97DE7EEF1DC6        Female   \n",
       "2095  3962BCE9-F512-492C-8DFF-B5653E74C13E          Male   \n",
       "8579  488E6DC9-5300-4974-9265-6F65F70D88B2        Female   \n",
       "2712  3755E978-DE3E-484A-AA52-0F229512AD02          Male   \n",
       "\n",
       "          PatientDateOfBirth       PatientRace PatientMaritalStatus  \\\n",
       "9214 1963-04-28 07:29:29.887               NaN               Single   \n",
       "8895 1969-07-24 13:26:48.377               NaN              Married   \n",
       "2095 1964-02-26 01:05:51.280             White              Married   \n",
       "8579 1955-05-20 07:31:28.027  African American                  NaN   \n",
       "2712 1955-07-24 15:17:25.113             White               Single   \n",
       "\n",
       "     PatientLanguage PatientPopulationPercentageBelowPoverty  PatientAge  \n",
       "9214         Spanish                                   11.08        55.0  \n",
       "8895         Spanish                                   15.46        49.0  \n",
       "2095         Spanish                                   13.32        54.0  \n",
       "8579         English                                   15.02        63.0  \n",
       "2712       Icelandic                                   15.14        63.0  "
      ]
     },
     "execution_count": 9,
     "metadata": {},
     "output_type": "execute_result"
    }
   ],
   "source": [
    "pc_df.sample(5)\n"
   ]
  },
  {
   "cell_type": "code",
   "execution_count": 10,
   "metadata": {},
   "outputs": [
    {
     "name": "stdout",
     "output_type": "stream",
     "text": [
      "PatientID\n",
      "251BFC0B-B523-4683-94B7-EF0BFE7A263A    1\n",
      "2E888F81-6E1B-48A2-B782-3092409A40F7    1\n",
      "E6DD3357-7A3F-4294-9CE2-2B959425D457    1\n",
      "6729E086-F7C5-4B48-9F83-160782CAE6CA    1\n",
      "105C64F5-5AC6-468B-8D40-E02FC111A77D    1\n",
      "19F78388-E150-4DC6-B87B-F4F070596F5D    1\n",
      "E19BA22B-2480-4632-8935-53C62A707D68    1\n",
      "F292FEFD-DF15-4D1D-8880-7E1D80C3936F    1\n",
      "4AB007D8-EB13-49BF-9FB0-EF87EFB32131    1\n",
      "707D9457-714B-42F5-BCFE-AEFE7316EC3E    1\n",
      "AA4FE124-CBE0-4E69-9E5E-E2CAB4079A24    1\n",
      "CDE992BB-BC9E-4438-8CF8-425D232877B8    1\n",
      "F7D1A334-AD87-475B-84DE-22A694328021    1\n",
      "D5B86C30-CE6C-45A4-ABBB-78DD5500EFB2    1\n",
      "E021E8FA-2EC9-4A55-B0DE-5C2340642F32    1\n",
      "DD237F3D-BB16-486E-8D2A-48BAA1FD7C21    1\n",
      "4BAA1B65-4771-4FBA-A224-BA285B0F1E1B    1\n",
      "0FF52150-EB65-484B-A975-BDA04F2702DF    1\n",
      "F3769631-16A5-40A7-ADA5-97853F4F6445    1\n",
      "BF184EA2-2E35-4631-BBF4-049DAE47F529    1\n",
      "BCA9F5D4-04B6-454B-9E87-B30943DB6A7D    1\n",
      "B4BE9BAA-DACA-46BF-96F2-D9B7165A231A    1\n",
      "849023B7-F886-4130-AC16-576BE77612D0    1\n",
      "9E0441B8-A33D-42F6-82F1-80BFB682B5A1    1\n",
      "B7DC778A-35CC-4B13-B7F4-814BA73F9F19    1\n",
      "66A12429-2769-437E-81DB-EAFCF363DA0B    1\n",
      "849C1C39-D282-49D8-A82A-1E678D014883    1\n",
      "03616046-44DA-47CB-A588-CE14C6276957    1\n",
      "68DE0B68-4218-476D-B5DD-2C00473F2E4D    1\n",
      "1F1217F3-1558-40F8-A825-87961AE100E8    1\n",
      "                                       ..\n",
      "6100EDE2-848A-4434-9468-8307096E264B    1\n",
      "4E146122-411D-4A12-9465-22BE023D14F9    1\n",
      "7DFBA5BF-3C77-4CC0-B430-AC80F3BBF982    1\n",
      "56AD714C-AE00-4032-AF83-B47FCD7DCED3    1\n",
      "7BAEBE20-68C1-4FE9-9694-C99AD6974CFA    1\n",
      "A5360B42-768C-43E4-83FD-53C83CB0B15C    1\n",
      "887E7F51-8893-402D-A366-6123A873AD09    1\n",
      "BD13605B-60BE-4762-9953-056FE6536BAE    1\n",
      "EF79B170-B893-4AFB-9FF3-5EBC2790D342    1\n",
      "0D5700B9-EAED-4E02-9963-18E039700296    1\n",
      "DC660983-1407-4CA4-B160-0088EB60290D    1\n",
      "756A40FA-F8F8-425A-8F2B-BF63327756A7    1\n",
      "E6B50260-7020-403B-BFDC-C459601035F7    1\n",
      "456B99B7-94BD-4CA5-918A-3285046E477E    1\n",
      "9DBA66BD-DF64-4304-859B-F17AACE94EB0    1\n",
      "18DF2766-5AEE-4A5E-96E7-60897729AC93    1\n",
      "57D4AC1E-8E89-42C8-ACBB-FAF1C9C4FDF7    1\n",
      "32881378-C4DE-4BB0-A28C-D63A13B72680    1\n",
      "11D4AC8F-C7C8-4690-800B-3207E4D54AC6    1\n",
      "2FC68D8B-0538-47AC-A52A-49C94C094092    1\n",
      "7FBA5968-BE56-4902-BF70-A43F10425AC4    1\n",
      "210A619A-D7D4-4501-891B-0B64C746C5AF    1\n",
      "086F3CA3-790A-4BE1-84BA-1F4897D04F4E    1\n",
      "BBD0BDCF-9316-47CC-83F1-57FF477E428E    1\n",
      "F425AF0F-7A26-4F62-BE4C-A3A07108CF01    1\n",
      "E78CFC95-BBE4-4A76-B9B4-3AC3BE2A4CF1    1\n",
      "81B7845E-6C37-4604-BA51-6EAE2566744E    1\n",
      "D963982B-EAA0-4227-8B85-48D90C7DA647    1\n",
      "CCF482D2-BF5A-4002-92CD-2062F26FA1CD    1\n",
      "9D122322-96CA-436B-911E-82393AA563B9    1\n",
      "Name: PatientID, Length: 10000, dtype: int64\n",
      "\n",
      "\n",
      "PatientGender\n",
      "Female    5200\n",
      "Male      4800\n",
      "Name: PatientGender, dtype: int64\n",
      "\n",
      "\n",
      "PatientDateOfBirth\n",
      "count                          10000\n",
      "unique                         10000\n",
      "top       1950-07-04 20:11:32.313000\n",
      "freq                               1\n",
      "first     1841-07-20 07:46:02.303000\n",
      "last      2036-01-08 11:39:11.027000\n",
      "Name: PatientDateOfBirth, dtype: object\n",
      "\n",
      "\n",
      "PatientRace\n",
      "White               4900\n",
      "Asian               2300\n",
      "African American    1500\n",
      "Name: PatientRace, dtype: int64\n",
      "\n",
      "\n",
      "PatientMaritalStatus\n",
      "Married      4500\n",
      "Single       3200\n",
      "Divorced     1100\n",
      "Separated     500\n",
      "Widowed       100\n",
      "Name: PatientMaritalStatus, dtype: int64\n",
      "\n",
      "\n",
      "PatientLanguage\n",
      "English      6400\n",
      "Spanish      1800\n",
      "Icelandic    1200\n",
      "Name: PatientLanguage, dtype: int64\n",
      "\n",
      "\n",
      "PatientPopulationPercentageBelowPoverty\n",
      "19.33    18\n",
      "13.92    17\n",
      "11.85    17\n",
      "14.17    17\n",
      "12.69    16\n",
      "13.69    16\n",
      "18.71    16\n",
      "19.26    16\n",
      "19.35    15\n",
      "13.99    15\n",
      "15.15    15\n",
      "18.12    15\n",
      "15.31    15\n",
      "10.99    15\n",
      "13.19    15\n",
      "11       15\n",
      "15.27    15\n",
      "16.12    14\n",
      "15.67    14\n",
      "18.51    14\n",
      "10.66    14\n",
      "14.94    14\n",
      "10.9     14\n",
      "15.88    14\n",
      "13.42    14\n",
      "12.87    14\n",
      "13.14    14\n",
      "16.32    13\n",
      "12.79    13\n",
      "14.52    13\n",
      "         ..\n",
      "83.62     1\n",
      "7.54      1\n",
      "1.14      1\n",
      "3.94      1\n",
      "87.97     1\n",
      "83.54     1\n",
      "89.01     1\n",
      "87.82     1\n",
      "97.85     1\n",
      "85.12     1\n",
      "83.99     1\n",
      "92.32     1\n",
      "80.94     1\n",
      "81.99     1\n",
      "0.11      1\n",
      "7.06      1\n",
      "1.25      1\n",
      "2.64      1\n",
      "84.01     1\n",
      "91.76     1\n",
      "98.85     1\n",
      "4.75      1\n",
      "95.44     1\n",
      "98.04     1\n",
      "87.24     1\n",
      "93.24     1\n",
      "2.4       1\n",
      "97.01     1\n",
      "6.89      1\n",
      "          1\n",
      "Name: PatientPopulationPercentageBelowPoverty, Length: 2410, dtype: int64\n",
      "\n",
      "\n",
      "PatientAge\n",
      "count    10000.000000\n",
      "mean        60.913100\n",
      "std         17.291988\n",
      "min        -17.000000\n",
      "25%         49.000000\n",
      "50%         59.000000\n",
      "75%         73.000000\n",
      "max        177.000000\n",
      "Name: PatientAge, dtype: float64\n",
      "\n",
      "\n"
     ]
    }
   ],
   "source": [
    "def summerize_data(pc_df):\n",
    "    for column in pc_df.columns:\n",
    "        print (column)\n",
    "        if pc_df.dtypes[column] == np.object: # Categorical data\n",
    "            print (pc_df[column].value_counts())\n",
    "        else:\n",
    "            print (pc_df[column].describe()) \n",
    "        \n",
    "        print ('\\n')\n",
    "    \n",
    "summerize_data(pc_df)"
   ]
  },
  {
   "cell_type": "code",
   "execution_count": 11,
   "metadata": {},
   "outputs": [
    {
     "ename": "TypeError",
     "evalue": "'<' not supported between instances of 'str' and 'float'",
     "output_type": "error",
     "traceback": [
      "\u001b[0;31m---------------------------------------------------------------------------\u001b[0m",
      "\u001b[0;31mTypeError\u001b[0m                                 Traceback (most recent call last)",
      "\u001b[0;32m<ipython-input-11-b45ddfa3485e>\u001b[0m in \u001b[0;36m<module>\u001b[0;34m\u001b[0m\n\u001b[1;32m     11\u001b[0m \u001b[0;34m\u001b[0m\u001b[0m\n\u001b[1;32m     12\u001b[0m \u001b[0;31m# Calculate the correlation and plot it\u001b[0m\u001b[0;34m\u001b[0m\u001b[0;34m\u001b[0m\u001b[0;34m\u001b[0m\u001b[0m\n\u001b[0;32m---> 13\u001b[0;31m \u001b[0mencoded_data\u001b[0m\u001b[0;34m,\u001b[0m \u001b[0m_\u001b[0m \u001b[0;34m=\u001b[0m \u001b[0mnumber_encode_features\u001b[0m\u001b[0;34m(\u001b[0m\u001b[0mpc_df\u001b[0m\u001b[0;34m)\u001b[0m\u001b[0;34m\u001b[0m\u001b[0;34m\u001b[0m\u001b[0m\n\u001b[0m\u001b[1;32m     14\u001b[0m \u001b[0msns\u001b[0m\u001b[0;34m.\u001b[0m\u001b[0mheatmap\u001b[0m\u001b[0;34m(\u001b[0m\u001b[0mencoded_data\u001b[0m\u001b[0;34m.\u001b[0m\u001b[0mcorr\u001b[0m\u001b[0;34m(\u001b[0m\u001b[0;34m)\u001b[0m\u001b[0;34m,\u001b[0m \u001b[0msquare\u001b[0m\u001b[0;34m=\u001b[0m\u001b[0;32mTrue\u001b[0m\u001b[0;34m)\u001b[0m\u001b[0;34m\u001b[0m\u001b[0;34m\u001b[0m\u001b[0m\n\u001b[1;32m     15\u001b[0m \u001b[0mplt\u001b[0m\u001b[0;34m.\u001b[0m\u001b[0mshow\u001b[0m\u001b[0;34m(\u001b[0m\u001b[0;34m)\u001b[0m\u001b[0;34m\u001b[0m\u001b[0;34m\u001b[0m\u001b[0m\n",
      "\u001b[0;32m<ipython-input-11-b45ddfa3485e>\u001b[0m in \u001b[0;36mnumber_encode_features\u001b[0;34m(pc_df)\u001b[0m\n\u001b[1;32m      6\u001b[0m         \u001b[0;32mif\u001b[0m \u001b[0mresult\u001b[0m\u001b[0;34m.\u001b[0m\u001b[0mdtypes\u001b[0m\u001b[0;34m[\u001b[0m\u001b[0mcolumn\u001b[0m\u001b[0;34m]\u001b[0m \u001b[0;34m==\u001b[0m \u001b[0mnp\u001b[0m\u001b[0;34m.\u001b[0m\u001b[0mobject\u001b[0m\u001b[0;34m:\u001b[0m\u001b[0;34m\u001b[0m\u001b[0;34m\u001b[0m\u001b[0m\n\u001b[1;32m      7\u001b[0m             \u001b[0mencoders\u001b[0m\u001b[0;34m[\u001b[0m\u001b[0mcolumn\u001b[0m\u001b[0;34m]\u001b[0m \u001b[0;34m=\u001b[0m \u001b[0mpreprocessing\u001b[0m\u001b[0;34m.\u001b[0m\u001b[0mLabelEncoder\u001b[0m\u001b[0;34m(\u001b[0m\u001b[0;34m)\u001b[0m\u001b[0;34m\u001b[0m\u001b[0;34m\u001b[0m\u001b[0m\n\u001b[0;32m----> 8\u001b[0;31m             \u001b[0mresult\u001b[0m\u001b[0;34m[\u001b[0m\u001b[0mcolumn\u001b[0m\u001b[0;34m]\u001b[0m \u001b[0;34m=\u001b[0m \u001b[0mencoders\u001b[0m\u001b[0;34m[\u001b[0m\u001b[0mcolumn\u001b[0m\u001b[0;34m]\u001b[0m\u001b[0;34m.\u001b[0m\u001b[0mfit_transform\u001b[0m\u001b[0;34m(\u001b[0m\u001b[0mresult\u001b[0m\u001b[0;34m[\u001b[0m\u001b[0mcolumn\u001b[0m\u001b[0;34m]\u001b[0m\u001b[0;34m)\u001b[0m\u001b[0;34m\u001b[0m\u001b[0;34m\u001b[0m\u001b[0m\n\u001b[0m\u001b[1;32m      9\u001b[0m     \u001b[0;32mreturn\u001b[0m \u001b[0mresult\u001b[0m\u001b[0;34m,\u001b[0m \u001b[0mencoders\u001b[0m\u001b[0;34m\u001b[0m\u001b[0;34m\u001b[0m\u001b[0m\n\u001b[1;32m     10\u001b[0m \u001b[0;34m\u001b[0m\u001b[0m\n",
      "\u001b[0;32m~/anaconda3/envs/mlenv/lib/python3.6/site-packages/sklearn/preprocessing/label.py\u001b[0m in \u001b[0;36mfit_transform\u001b[0;34m(self, y)\u001b[0m\n\u001b[1;32m    234\u001b[0m         \"\"\"\n\u001b[1;32m    235\u001b[0m         \u001b[0my\u001b[0m \u001b[0;34m=\u001b[0m \u001b[0mcolumn_or_1d\u001b[0m\u001b[0;34m(\u001b[0m\u001b[0my\u001b[0m\u001b[0;34m,\u001b[0m \u001b[0mwarn\u001b[0m\u001b[0;34m=\u001b[0m\u001b[0;32mTrue\u001b[0m\u001b[0;34m)\u001b[0m\u001b[0;34m\u001b[0m\u001b[0;34m\u001b[0m\u001b[0m\n\u001b[0;32m--> 236\u001b[0;31m         \u001b[0mself\u001b[0m\u001b[0;34m.\u001b[0m\u001b[0mclasses_\u001b[0m\u001b[0;34m,\u001b[0m \u001b[0my\u001b[0m \u001b[0;34m=\u001b[0m \u001b[0m_encode\u001b[0m\u001b[0;34m(\u001b[0m\u001b[0my\u001b[0m\u001b[0;34m,\u001b[0m \u001b[0mencode\u001b[0m\u001b[0;34m=\u001b[0m\u001b[0;32mTrue\u001b[0m\u001b[0;34m)\u001b[0m\u001b[0;34m\u001b[0m\u001b[0;34m\u001b[0m\u001b[0m\n\u001b[0m\u001b[1;32m    237\u001b[0m         \u001b[0;32mreturn\u001b[0m \u001b[0my\u001b[0m\u001b[0;34m\u001b[0m\u001b[0;34m\u001b[0m\u001b[0m\n\u001b[1;32m    238\u001b[0m \u001b[0;34m\u001b[0m\u001b[0m\n",
      "\u001b[0;32m~/anaconda3/envs/mlenv/lib/python3.6/site-packages/sklearn/preprocessing/label.py\u001b[0m in \u001b[0;36m_encode\u001b[0;34m(values, uniques, encode)\u001b[0m\n\u001b[1;32m    106\u001b[0m     \"\"\"\n\u001b[1;32m    107\u001b[0m     \u001b[0;32mif\u001b[0m \u001b[0mvalues\u001b[0m\u001b[0;34m.\u001b[0m\u001b[0mdtype\u001b[0m \u001b[0;34m==\u001b[0m \u001b[0mobject\u001b[0m\u001b[0;34m:\u001b[0m\u001b[0;34m\u001b[0m\u001b[0;34m\u001b[0m\u001b[0m\n\u001b[0;32m--> 108\u001b[0;31m         \u001b[0;32mreturn\u001b[0m \u001b[0m_encode_python\u001b[0m\u001b[0;34m(\u001b[0m\u001b[0mvalues\u001b[0m\u001b[0;34m,\u001b[0m \u001b[0muniques\u001b[0m\u001b[0;34m,\u001b[0m \u001b[0mencode\u001b[0m\u001b[0;34m)\u001b[0m\u001b[0;34m\u001b[0m\u001b[0;34m\u001b[0m\u001b[0m\n\u001b[0m\u001b[1;32m    109\u001b[0m     \u001b[0;32melse\u001b[0m\u001b[0;34m:\u001b[0m\u001b[0;34m\u001b[0m\u001b[0;34m\u001b[0m\u001b[0m\n\u001b[1;32m    110\u001b[0m         \u001b[0;32mreturn\u001b[0m \u001b[0m_encode_numpy\u001b[0m\u001b[0;34m(\u001b[0m\u001b[0mvalues\u001b[0m\u001b[0;34m,\u001b[0m \u001b[0muniques\u001b[0m\u001b[0;34m,\u001b[0m \u001b[0mencode\u001b[0m\u001b[0;34m)\u001b[0m\u001b[0;34m\u001b[0m\u001b[0;34m\u001b[0m\u001b[0m\n",
      "\u001b[0;32m~/anaconda3/envs/mlenv/lib/python3.6/site-packages/sklearn/preprocessing/label.py\u001b[0m in \u001b[0;36m_encode_python\u001b[0;34m(values, uniques, encode)\u001b[0m\n\u001b[1;32m     61\u001b[0m     \u001b[0;31m# only used in _encode below, see docstring there for details\u001b[0m\u001b[0;34m\u001b[0m\u001b[0;34m\u001b[0m\u001b[0;34m\u001b[0m\u001b[0m\n\u001b[1;32m     62\u001b[0m     \u001b[0;32mif\u001b[0m \u001b[0muniques\u001b[0m \u001b[0;32mis\u001b[0m \u001b[0;32mNone\u001b[0m\u001b[0;34m:\u001b[0m\u001b[0;34m\u001b[0m\u001b[0;34m\u001b[0m\u001b[0m\n\u001b[0;32m---> 63\u001b[0;31m         \u001b[0muniques\u001b[0m \u001b[0;34m=\u001b[0m \u001b[0msorted\u001b[0m\u001b[0;34m(\u001b[0m\u001b[0mset\u001b[0m\u001b[0;34m(\u001b[0m\u001b[0mvalues\u001b[0m\u001b[0;34m)\u001b[0m\u001b[0;34m)\u001b[0m\u001b[0;34m\u001b[0m\u001b[0;34m\u001b[0m\u001b[0m\n\u001b[0m\u001b[1;32m     64\u001b[0m         \u001b[0muniques\u001b[0m \u001b[0;34m=\u001b[0m \u001b[0mnp\u001b[0m\u001b[0;34m.\u001b[0m\u001b[0marray\u001b[0m\u001b[0;34m(\u001b[0m\u001b[0muniques\u001b[0m\u001b[0;34m,\u001b[0m \u001b[0mdtype\u001b[0m\u001b[0;34m=\u001b[0m\u001b[0mvalues\u001b[0m\u001b[0;34m.\u001b[0m\u001b[0mdtype\u001b[0m\u001b[0;34m)\u001b[0m\u001b[0;34m\u001b[0m\u001b[0;34m\u001b[0m\u001b[0m\n\u001b[1;32m     65\u001b[0m     \u001b[0;32mif\u001b[0m \u001b[0mencode\u001b[0m\u001b[0;34m:\u001b[0m\u001b[0;34m\u001b[0m\u001b[0;34m\u001b[0m\u001b[0m\n",
      "\u001b[0;31mTypeError\u001b[0m: '<' not supported between instances of 'str' and 'float'"
     ]
    }
   ],
   "source": [
    "# Encode the categorical features as numbers\n",
    "def number_encode_features(pc_df):\n",
    "    result = pc_df.copy()\n",
    "    encoders = {}\n",
    "    for column in result.columns:\n",
    "        if result.dtypes[column] == np.object:\n",
    "            encoders[column] = preprocessing.LabelEncoder()\n",
    "            result[column] = encoders[column].fit_transform(result[column])\n",
    "    return result, encoders\n",
    "\n",
    "\n",
    "# Calculate the correlation and plot it\n",
    "encoded_data, _ = number_encode_features(pc_df)\n",
    "sns.heatmap(encoded_data.corr(), square=True)\n",
    "plt.show()\n",
    "\n",
    "encoded_data.tail(5)"
   ]
  },
  {
   "cell_type": "code",
   "execution_count": null,
   "metadata": {},
   "outputs": [],
   "source": [
    "pc_df.dtypes"
   ]
  },
  {
   "cell_type": "code",
   "execution_count": null,
   "metadata": {},
   "outputs": [],
   "source": [
    "pc_df.to_csv('cleaned.csv')"
   ]
  },
  {
   "cell_type": "code",
   "execution_count": null,
   "metadata": {},
   "outputs": [],
   "source": []
  },
  {
   "cell_type": "code",
   "execution_count": null,
   "metadata": {},
   "outputs": [],
   "source": []
  }
 ],
 "metadata": {
  "kernelspec": {
   "display_name": "Python 3",
   "language": "python",
   "name": "python3"
  },
  "language_info": {
   "codemirror_mode": {
    "name": "ipython",
    "version": 3
   },
   "file_extension": ".py",
   "mimetype": "text/x-python",
   "name": "python",
   "nbconvert_exporter": "python",
   "pygments_lexer": "ipython3",
   "version": "3.6.8"
  }
 },
 "nbformat": 4,
 "nbformat_minor": 2
}
